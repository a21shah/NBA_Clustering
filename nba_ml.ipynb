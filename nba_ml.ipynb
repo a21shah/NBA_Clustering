{
 "metadata": {
  "language_info": {
   "codemirror_mode": {
    "name": "ipython",
    "version": 3
   },
   "file_extension": ".py",
   "mimetype": "text/x-python",
   "name": "python",
   "nbconvert_exporter": "python",
   "pygments_lexer": "ipython3",
   "version": "3.7.4-final"
  },
  "orig_nbformat": 2,
  "kernelspec": {
   "name": "python374jvsc74a57bd0184d473ad737d4fa87d376890b0d93035144fd2b273d2bfbd72515d922c22254",
   "display_name": "Python 3.7.4 64-bit (conda)"
  }
 },
 "nbformat": 4,
 "nbformat_minor": 2,
 "cells": [
  {
   "cell_type": "code",
   "execution_count": 1,
   "metadata": {},
   "outputs": [],
   "source": [
    "import pandas as pd"
   ]
  },
  {
   "cell_type": "code",
   "execution_count": 2,
   "metadata": {},
   "outputs": [
    {
     "output_type": "stream",
     "name": "stdout",
     "text": [
      "(24691, 53)\n"
     ]
    }
   ],
   "source": [
    "df = pd.read_csv('data/Seasons_Stats.csv')\n",
    "print(df.shape)"
   ]
  },
  {
   "cell_type": "code",
   "execution_count": 3,
   "metadata": {},
   "outputs": [],
   "source": [
    "def filter_years(df):\n",
    "    # Filter data so only seasons from 2010 onwards are included\n",
    "    df = df[df['Year'].notna()]\n",
    "    df = df[df['Year'] >= 2010]\n",
    "    df['Year'] = df['Year'].astype(int)\n",
    "    return df\n",
    "\n",
    "def cleaned_df(df):\n",
    "    # Clean dataframe so only 1 season stat is included for every player per season\n",
    "    years = df['Year'].unique()\n",
    "    for year in years:\n",
    "        df_year = df[df['Year'] == year]\n",
    "        df_year = df_year[df_year.duplicated(subset='Player', keep=False)]\n",
    "        common_rows = df['Unnamed: 0'].isin(df_year['Unnamed: 0'])\n",
    "        df.drop(df[common_rows].index, inplace = True)\n",
    "        df = df.append(df_year[df_year['Tm'] == 'TOT'])\n",
    "    return df"
   ]
  },
  {
   "cell_type": "code",
   "execution_count": 4,
   "metadata": {},
   "outputs": [
    {
     "output_type": "execute_result",
     "data": {
      "text/plain": [
       "(3773, 53)"
      ]
     },
     "metadata": {},
     "execution_count": 4
    }
   ],
   "source": [
    "df = filter_years(df)\n",
    "df = cleaned_df(df)\n",
    "df.shape"
   ]
  },
  {
   "cell_type": "code",
   "execution_count": null,
   "metadata": {},
   "outputs": [],
   "source": []
  }
 ]
}